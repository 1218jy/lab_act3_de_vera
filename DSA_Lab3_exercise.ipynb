{
 "cells": [
  {
   "cell_type": "code",
   "execution_count": null,
   "id": "5800f3b7-3b02-4f64-9ab8-d33fdd574857",
   "metadata": {},
   "outputs": [],
   "source": [
    "#De Vera, Jay Darrel M. BSCpE 2-3\n",
    "#Lab Activity 3 Exercise 1\n",
    "# List comprehension to compute square of odd integers\n",
    "#from a given list of integers, create a new list using comprehension that will compute the square of odd integer elements.\n",
    "\n",
    "#sample calls\n",
    "\n",
    "#[2,4,3] == [9] [0,0,1,1] == [1,1]\n",
    "\n",
    "\n",
    "def square_of_odds(lst):\n",
    "    return [x**2 for x in lst if x % 2 != 0]\n",
    "\n",
    "print(square_of_odds([2, 4, 3])) \n",
    "print(square_of_odds([0, 0, 1, 1]))   "
   ]
  },
  {
   "cell_type": "code",
   "execution_count": null,
   "id": "45c976c3-3707-492c-b8fc-5d8dde30c532",
   "metadata": {},
   "outputs": [],
   "source": [
    "#Lab Activity 3 Exercise 2\n",
    "\n",
    "list1 = [1, 2, 3]\n",
    "list2 = [\"mark\", \"alice\", \"john\"]\n",
    "\n",
    "listOfTuple = [(x, y) for x, y in zip(list1, list2)]\n",
    "\n",
    "print(listOfTuple)\n"
   ]
  },
  {
   "cell_type": "code",
   "execution_count": null,
   "id": "45fdceb9-91f5-4a7d-bf43-77ef76bd36c9",
   "metadata": {},
   "outputs": [],
   "source": [
    "#Lab Activity 3 Exercise 3\n",
    "\n",
    "def vowelsToUpper(s: str) -> str:\n",
    "    # Using list comprehension to convert vowels to uppercase and keep other characters unchanged\n",
    "    return ''.join([char.upper() if char in 'aeiouAEIOU' else char for char in s])\n",
    "\n",
    "# Sample calls\n",
    "print(vowelsToUpper(\"\"))                  \n",
    "print(vowelsToUpper(\"Hello, world!\"))     \n",
    "print(vowelsToUpper(\"hello hi bye\"))      "
   ]
  },
  {
   "cell_type": "code",
   "execution_count": null,
   "id": "4e4195de-b5fb-4fd1-b633-c94d16421d57",
   "metadata": {},
   "outputs": [],
   "source": [
    "#####################################################\n",
    "\n",
    "\n",
    "#Lab Activity 2 Exercise 2\n",
    "\n",
    "\n",
    "\n",
    "#Steps:\n",
    "#1. Input the size of the array.\n",
    "#2. input the elements of the array\n",
    "#3. display the cube of each element\n",
    "\n",
    "#Sample output\n",
    "\n",
    "#Enter the size of the array : 3\n",
    "#Enter the elements separated by space: 3 10 20\n",
    "#27\n",
    "#1000\n",
    "#8000\n",
    "\n",
    "size = int(input(\"Enter the size of the array: \"))\n",
    "\n",
    "elements = list(map(int, input(f\"Enter the {size} elements separated by space: \").split()))\n",
    "\n",
    "for element in elements:\n",
    "    print(element ** 3)"
   ]
  }
 ],
 "metadata": {
  "kernelspec": {
   "display_name": "Python 3 (ipykernel)",
   "language": "python",
   "name": "python3"
  },
  "language_info": {
   "codemirror_mode": {
    "name": "ipython",
    "version": 3
   },
   "file_extension": ".py",
   "mimetype": "text/x-python",
   "name": "python",
   "nbconvert_exporter": "python",
   "pygments_lexer": "ipython3",
   "version": "3.12.6"
  }
 },
 "nbformat": 4,
 "nbformat_minor": 5
}
